{
 "cells": [
  {
   "cell_type": "code",
   "execution_count": 1,
   "id": "8761c393",
   "metadata": {},
   "outputs": [],
   "source": [
    "import pandas as pd \n",
    "import numpy as np \n",
    "import seaborn as sns \n",
    "import matplotlib.pyplot as plt \n",
    "import os \n",
    "import librosa \n",
    "from IPython.display import Audio\n",
    "import tensorflow as tf"
   ]
  },
  {
   "cell_type": "code",
   "execution_count": 2,
   "id": "49793beb",
   "metadata": {},
   "outputs": [],
   "source": [
    "paths = [] \n",
    "labels = []"
   ]
  },
  {
   "cell_type": "code",
   "execution_count": 3,
   "id": "5caf4cb3",
   "metadata": {},
   "outputs": [],
   "source": [
    "for dirname, _, filenames in os.walk(r\"D:\\multi_model_project\\voice_emotion_detection\\TESS Toronto emotional speech set data\"):\n",
    "    for filename in filenames:\n",
    "        paths.append(os.path.join(dirname, filename))\n",
    "        label = filename.split(\"_\")[-1]\n",
    "        labels.append(label.split(\".\")[0])\n"
   ]
  },
  {
   "cell_type": "code",
   "execution_count": 4,
   "id": "6c5a9519",
   "metadata": {},
   "outputs": [],
   "source": [
    "df = pd.DataFrame({'path':paths,'label':labels})"
   ]
  },
  {
   "cell_type": "code",
   "execution_count": 5,
   "id": "83833dd4",
   "metadata": {},
   "outputs": [
    {
     "data": {
      "text/html": [
       "<div>\n",
       "<style scoped>\n",
       "    .dataframe tbody tr th:only-of-type {\n",
       "        vertical-align: middle;\n",
       "    }\n",
       "\n",
       "    .dataframe tbody tr th {\n",
       "        vertical-align: top;\n",
       "    }\n",
       "\n",
       "    .dataframe thead th {\n",
       "        text-align: right;\n",
       "    }\n",
       "</style>\n",
       "<table border=\"1\" class=\"dataframe\">\n",
       "  <thead>\n",
       "    <tr style=\"text-align: right;\">\n",
       "      <th></th>\n",
       "      <th>path</th>\n",
       "      <th>label</th>\n",
       "    </tr>\n",
       "  </thead>\n",
       "  <tbody>\n",
       "    <tr>\n",
       "      <th>0</th>\n",
       "      <td>D:\\multi_model_project\\voice_emotion_detection...</td>\n",
       "      <td>angry</td>\n",
       "    </tr>\n",
       "    <tr>\n",
       "      <th>1</th>\n",
       "      <td>D:\\multi_model_project\\voice_emotion_detection...</td>\n",
       "      <td>angry</td>\n",
       "    </tr>\n",
       "    <tr>\n",
       "      <th>2</th>\n",
       "      <td>D:\\multi_model_project\\voice_emotion_detection...</td>\n",
       "      <td>angry</td>\n",
       "    </tr>\n",
       "  </tbody>\n",
       "</table>\n",
       "</div>"
      ],
      "text/plain": [
       "                                                path  label\n",
       "0  D:\\multi_model_project\\voice_emotion_detection...  angry\n",
       "1  D:\\multi_model_project\\voice_emotion_detection...  angry\n",
       "2  D:\\multi_model_project\\voice_emotion_detection...  angry"
      ]
     },
     "execution_count": 5,
     "metadata": {},
     "output_type": "execute_result"
    }
   ],
   "source": [
    "df.head(3)"
   ]
  },
  {
   "cell_type": "code",
   "execution_count": 6,
   "id": "f27819fd",
   "metadata": {},
   "outputs": [
    {
     "data": {
      "text/plain": [
       "<bound method DataFrame.value_counts of                                                    path  label\n",
       "0     D:\\multi_model_project\\voice_emotion_detection...  angry\n",
       "1     D:\\multi_model_project\\voice_emotion_detection...  angry\n",
       "2     D:\\multi_model_project\\voice_emotion_detection...  angry\n",
       "3     D:\\multi_model_project\\voice_emotion_detection...  angry\n",
       "4     D:\\multi_model_project\\voice_emotion_detection...  angry\n",
       "...                                                 ...    ...\n",
       "5595  D:\\multi_model_project\\voice_emotion_detection...    sad\n",
       "5596  D:\\multi_model_project\\voice_emotion_detection...    sad\n",
       "5597  D:\\multi_model_project\\voice_emotion_detection...    sad\n",
       "5598  D:\\multi_model_project\\voice_emotion_detection...    sad\n",
       "5599  D:\\multi_model_project\\voice_emotion_detection...    sad\n",
       "\n",
       "[5600 rows x 2 columns]>"
      ]
     },
     "execution_count": 6,
     "metadata": {},
     "output_type": "execute_result"
    }
   ],
   "source": [
    "df.value_counts"
   ]
  },
  {
   "cell_type": "code",
   "execution_count": 7,
   "id": "cf7b1aaa",
   "metadata": {},
   "outputs": [
    {
     "data": {
      "image/png": "[encoded data removed]",
      "text/plain": [
       "<Figure size 640x480 with 1 Axes>"
      ]
     },
     "metadata": {},
     "output_type": "display_data"
    }
   ],
   "source": [
    "sns.countplot(x='label',data=df)\n",
    "plt.show()"
   ]
  },
  {
   "cell_type": "code",
   "execution_count": 8,
   "id": "8e4b34f5",
   "metadata": {},
   "outputs": [],
   "source": [
    "from audiomentations import Compose, AddGaussianNoise, TimeStretch, PitchShift, Shift    \n"
   ]
  },
  {
   "cell_type": "code",
   "execution_count": 9,
   "id": "0351388a",
   "metadata": {},
   "outputs": [],
   "source": [
    "augmentations = Compose([\n",
    "    AddGaussianNoise(min_amplitude=0.001, max_amplitude=0.015, p=0.5),\n",
    "    TimeStretch(min_rate=0.8, max_rate=1.25, p=0.5),\n",
    "    PitchShift(min_semitones=-4, max_semitones=4, p=0.5),\n",
    "])"
   ]
  },
  {
   "cell_type": "markdown",
   "id": "87be43e0",
   "metadata": {},
   "source": []
  },
  {
   "cell_type": "code",
   "execution_count": 10,
   "id": "a5f49b44",
   "metadata": {},
   "outputs": [],
   "source": [
    "\n",
    "  \n",
    "def pad_or_truncate(samples, max_len=16000):\n",
    "    if len(samples) > max_len:\n",
    "        return samples[:max_len]\n",
    "    elif len(samples) < max_len:\n",
    "        return np.pad(samples, (0, max_len - len(samples)), 'constant')\n",
    "    else:\n",
    "        return samples"
   ]
  },
  {
   "cell_type": "code",
   "execution_count": 11,
   "id": "397d78f5",
   "metadata": {},
   "outputs": [],
   "source": [
    "#extracting the features \n",
    "def extract_feature(data, sr=16000, max_frames=160):\n",
    "    mfcc = librosa.feature.mfcc(y=data, sr=sr, n_mfcc=40)\n",
    "\n",
    "    # Pad or truncate along time axis (axis=1)\n",
    "    if mfcc.shape[1] > max_frames:\n",
    "        mfcc = mfcc[:, :max_frames]\n",
    "    elif mfcc.shape[1] < max_frames:\n",
    "        pad_width = max_frames - mfcc.shape[1]\n",
    "        mfcc = np.pad(mfcc, ((0, 0), (0, pad_width)), mode='constant')\n",
    "\n",
    "    return mfcc\n"
   ]
  },
  {
   "cell_type": "code",
   "execution_count": 12,
   "id": "f56c6f67",
   "metadata": {},
   "outputs": [],
   "source": [
    "def preprocess_audio(audio_path, sr=16000, max_len=16000):\n",
    "    samples, _ = librosa.load(audio_path, sr=sr)\n",
    "    samples = augmentations(samples=samples, sample_rate=sr )\n",
    "    samples = pad_or_truncate(samples, max_len)\n",
    "    mfcc = extract_feature(samples, sr=16000, max_frames=160)\n",
    "\n",
    "    return mfcc"
   ]
  },
  {
   "cell_type": "code",
   "execution_count": 13,
   "id": "174741fb",
   "metadata": {},
   "outputs": [],
   "source": [
    "mfcc_features = []\n",
    "valid_labels = []\n"
   ]
  },
  {
   "cell_type": "code",
   "execution_count": 14,
   "id": "b21ab1b3",
   "metadata": {},
   "outputs": [],
   "source": [
    "for indx, row in df.iterrows():\n",
    "    try:\n",
    "        mfcc = preprocess_audio(row['path'])\n",
    "        mfcc_features.append(mfcc)\n",
    "        valid_labels.append(row['label'])\n",
    "    except Exception as e:\n",
    "        print(e)\n",
    "        pass    "
   ]
  },
  {
   "cell_type": "code",
   "execution_count": 15,
   "id": "6f150af9",
   "metadata": {},
   "outputs": [
    {
     "name": "stdout",
     "output_type": "stream",
     "text": [
      "Input shape (samples, time_steps, n_mfcc): (5600, 40, 160)\n"
     ]
    }
   ],
   "source": [
    "max_len = max([mf.shape[0] for mf in mfcc_features])\n",
    "\n",
    "# Pad sequences\n",
    "X = np.array([\n",
    "    np.pad(mf, ((0, max_len - mf.shape[0]), (0, 0)), mode='constant')\n",
    "    for mf in mfcc_features\n",
    "])\n",
    "print(\"Input shape (samples, time_steps, n_mfcc):\", X.shape)"
   ]
  },
  {
   "cell_type": "code",
   "execution_count": 16,
   "id": "f6ce7f0a",
   "metadata": {},
   "outputs": [
    {
     "name": "stdout",
     "output_type": "stream",
     "text": [
      "Output shape (samples): (5600,)\n"
     ]
    }
   ],
   "source": [
    "from sklearn.preprocessing import LabelEncoder\n",
    "le = LabelEncoder()\n",
    "y = le.fit_transform(valid_labels)\n",
    "print(\"Output shape (samples):\", y.shape)"
   ]
  },
  {
   "cell_type": "code",
   "execution_count": 17,
   "id": "b1725dca",
   "metadata": {},
   "outputs": [],
   "source": [
    "from keras.utils import to_categorical\n",
    "from keras.models import Sequential\n",
    "from keras.layers import LSTM, Dense, Dropout ,Conv1D,MaxPooling1D,Flatten\n",
    "from keras.optimizers import Adam"
   ]
  },
  {
   "cell_type": "code",
   "execution_count": 18,
   "id": "c36fa61d",
   "metadata": {},
   "outputs": [],
   "source": [
    "model  = Sequential()\n"
   ]
  },
  {
   "cell_type": "code",
   "execution_count": 19,
   "id": "b67d4fe7",
   "metadata": {},
   "outputs": [
    {
     "name": "stdout",
     "output_type": "stream",
     "text": [
      "WARNING:tensorflow:Layer lstm will not use cuDNN kernels since it doesn't meet the criteria. It will use a generic GPU kernel as fallback when running on GPU.\n"
     ]
    }
   ],
   "source": [
    "from tensorflow.keras import models, layers, regularizers\n",
    "\n",
    "model = models.Sequential([\n",
    "    layers.Input(shape=X.shape[1:]),  # (time_steps, n_mfcc)\n",
    "\n",
    "    layers.Conv1D(64, kernel_size=5, activation='relu', padding='same'),\n",
    "    layers.BatchNormalization(),\n",
    "    layers.MaxPooling1D(pool_size=2),\n",
    "\n",
    "    layers.Conv1D(128, kernel_size=5, activation='relu', padding='same'),\n",
    "    layers.BatchNormalization(),\n",
    "    layers.MaxPooling1D(pool_size=2),\n",
    "\n",
    "    # One more Conv layer is enough\n",
    "    layers.Conv1D(128, kernel_size=3, activation='relu', padding='same'),\n",
    "    layers.BatchNormalization(),\n",
    "\n",
    "    layers.LSTM(64, return_sequences=False, dropout=0.3, recurrent_dropout=0.2),\n",
    "\n",
    "    layers.Dense(64, activation='relu', kernel_regularizer=regularizers.l2(0.01)),\n",
    "    layers.Dropout(0.3),\n",
    "\n",
    "    layers.Dense(len(np.unique(y)), activation='softmax')\n",
    "])\n"
   ]
  },
  {
   "cell_type": "code",
   "execution_count": 22,
   "id": "08e4098f",
   "metadata": {},
   "outputs": [],
   "source": [
    "model.compile(optimizer='adam', loss='sparse_categorical_crossentropy', metrics=['accuracy'])"
   ]
  },
  {
   "cell_type": "code",
   "execution_count": 23,
   "id": "9ddc82f2",
   "metadata": {},
   "outputs": [],
   "source": [
    "from tensorflow.keras.callbacks import EarlyStopping, ReduceLROnPlateau\n",
    "early_stop = EarlyStopping(monitor='val_loss', patience=5, restore_best_weights=True)\n",
    "lr_reduce = ReduceLROnPlateau(monitor='val_loss', patience=3, factor=0.5, verbose=1)"
   ]
  },
  {
   "cell_type": "code",
   "execution_count": 24,
   "id": "0765fd06",
   "metadata": {},
   "outputs": [
    {
     "name": "stdout",
     "output_type": "stream",
     "text": [
      "Epoch 1/100\n",
      "140/140 [==============================] - 20s 55ms/step - loss: 1.3333 - accuracy: 0.6913 - val_loss: 0.7862 - val_accuracy: 0.8214 - lr: 0.0010\n",
      "Epoch 2/100\n",
      "140/140 [==============================] - 10s 71ms/step - loss: 0.4991 - accuracy: 0.9259 - val_loss: 0.2851 - val_accuracy: 0.9804 - lr: 0.0010\n",
      "Epoch 3/100\n",
      "140/140 [==============================] - 11s 77ms/step - loss: 0.3052 - accuracy: 0.9547 - val_loss: 0.1653 - val_accuracy: 0.9893 - lr: 0.0010\n",
      "Epoch 4/100\n",
      "140/140 [==============================] - 10s 73ms/step - loss: 0.2110 - accuracy: 0.9703 - val_loss: 0.1491 - val_accuracy: 0.9839 - lr: 0.0010\n",
      "Epoch 5/100\n",
      "140/140 [==============================] - 10s 68ms/step - loss: 0.1657 - accuracy: 0.9754 - val_loss: 0.0945 - val_accuracy: 0.9937 - lr: 0.0010\n",
      "Epoch 6/100\n",
      "140/140 [==============================] - 10s 68ms/step - loss: 0.1142 - accuracy: 0.9871 - val_loss: 0.0841 - val_accuracy: 0.9929 - lr: 0.0010\n",
      "Epoch 7/100\n",
      "140/140 [==============================] - 9s 67ms/step - loss: 0.1080 - accuracy: 0.9850 - val_loss: 0.0831 - val_accuracy: 0.9902 - lr: 0.0010\n",
      "Epoch 8/100\n",
      "140/140 [==============================] - 9s 66ms/step - loss: 0.1108 - accuracy: 0.9808 - val_loss: 0.0777 - val_accuracy: 0.9902 - lr: 0.0010\n",
      "Epoch 9/100\n",
      "140/140 [==============================] - 9s 65ms/step - loss: 0.0981 - accuracy: 0.9839 - val_loss: 0.0584 - val_accuracy: 0.9955 - lr: 0.0010\n",
      "Epoch 10/100\n",
      "140/140 [==============================] - 9s 68ms/step - loss: 0.0904 - accuracy: 0.9853 - val_loss: 0.0546 - val_accuracy: 0.9955 - lr: 0.0010\n",
      "Epoch 11/100\n",
      "140/140 [==============================] - 9s 65ms/step - loss: 0.0682 - accuracy: 0.9915 - val_loss: 0.0398 - val_accuracy: 0.9982 - lr: 0.0010\n",
      "Epoch 12/100\n",
      "140/140 [==============================] - 9s 66ms/step - loss: 0.0630 - accuracy: 0.9924 - val_loss: 0.0658 - val_accuracy: 0.9902 - lr: 0.0010\n",
      "Epoch 13/100\n",
      "140/140 [==============================] - 9s 64ms/step - loss: 0.0733 - accuracy: 0.9875 - val_loss: 0.0556 - val_accuracy: 0.9911 - lr: 0.0010\n",
      "Epoch 14/100\n",
      "140/140 [==============================] - ETA: 0s - loss: 0.0577 - accuracy: 0.9922\n",
      "Epoch 14: ReduceLROnPlateau reducing learning rate to 0.0005000000237487257.\n",
      "140/140 [==============================] - 9s 64ms/step - loss: 0.0577 - accuracy: 0.9922 - val_loss: 0.0539 - val_accuracy: 0.9920 - lr: 0.0010\n",
      "Epoch 15/100\n",
      "140/140 [==============================] - 9s 66ms/step - loss: 0.0404 - accuracy: 0.9971 - val_loss: 0.0366 - val_accuracy: 0.9973 - lr: 5.0000e-04\n",
      "Epoch 16/100\n",
      "140/140 [==============================] - 9s 65ms/step - loss: 0.0438 - accuracy: 0.9946 - val_loss: 0.0413 - val_accuracy: 0.9955 - lr: 5.0000e-04\n",
      "Epoch 17/100\n",
      "140/140 [==============================] - 6s 43ms/step - loss: 0.0312 - accuracy: 0.9991 - val_loss: 0.0388 - val_accuracy: 0.9964 - lr: 5.0000e-04\n",
      "Epoch 18/100\n",
      "140/140 [==============================] - 5s 37ms/step - loss: 0.0314 - accuracy: 0.9987 - val_loss: 0.0299 - val_accuracy: 0.9973 - lr: 5.0000e-04\n",
      "Epoch 19/100\n",
      "140/140 [==============================] - 5s 38ms/step - loss: 0.0277 - accuracy: 0.9993 - val_loss: 0.0264 - val_accuracy: 0.9982 - lr: 5.0000e-04\n",
      "Epoch 20/100\n",
      "140/140 [==============================] - 5s 38ms/step - loss: 0.0261 - accuracy: 0.9996 - val_loss: 0.0287 - val_accuracy: 0.9982 - lr: 5.0000e-04\n",
      "Epoch 21/100\n",
      "140/140 [==============================] - 5s 37ms/step - loss: 0.0272 - accuracy: 0.9993 - val_loss: 0.0288 - val_accuracy: 0.9973 - lr: 5.0000e-04\n",
      "Epoch 22/100\n",
      "140/140 [==============================] - ETA: 0s - loss: 0.0298 - accuracy: 0.9973\n",
      "Epoch 22: ReduceLROnPlateau reducing learning rate to 0.0002500000118743628.\n",
      "140/140 [==============================] - 5s 37ms/step - loss: 0.0298 - accuracy: 0.9973 - val_loss: 0.0316 - val_accuracy: 0.9955 - lr: 5.0000e-04\n",
      "Epoch 23/100\n",
      "140/140 [==============================] - 5s 37ms/step - loss: 0.0244 - accuracy: 0.9996 - val_loss: 0.0224 - val_accuracy: 0.9973 - lr: 2.5000e-04\n",
      "Epoch 24/100\n",
      "140/140 [==============================] - 5s 38ms/step - loss: 0.0253 - accuracy: 0.9984 - val_loss: 0.0250 - val_accuracy: 0.9973 - lr: 2.5000e-04\n",
      "Epoch 25/100\n",
      "140/140 [==============================] - 5s 39ms/step - loss: 0.0249 - accuracy: 0.9991 - val_loss: 0.0234 - val_accuracy: 0.9973 - lr: 2.5000e-04\n",
      "Epoch 26/100\n",
      "140/140 [==============================] - 5s 37ms/step - loss: 0.0222 - accuracy: 0.9993 - val_loss: 0.0217 - val_accuracy: 0.9991 - lr: 2.5000e-04\n",
      "Epoch 27/100\n",
      "140/140 [==============================] - 5s 38ms/step - loss: 0.0207 - accuracy: 1.0000 - val_loss: 0.0217 - val_accuracy: 0.9982 - lr: 2.5000e-04\n",
      "Epoch 28/100\n",
      "140/140 [==============================] - 5s 38ms/step - loss: 0.0203 - accuracy: 1.0000 - val_loss: 0.0207 - val_accuracy: 0.9991 - lr: 2.5000e-04\n",
      "Epoch 29/100\n",
      "140/140 [==============================] - 5s 37ms/step - loss: 0.0196 - accuracy: 1.0000 - val_loss: 0.0201 - val_accuracy: 0.9991 - lr: 2.5000e-04\n",
      "Epoch 30/100\n",
      "140/140 [==============================] - 5s 37ms/step - loss: 0.0187 - accuracy: 1.0000 - val_loss: 0.0198 - val_accuracy: 0.9982 - lr: 2.5000e-04\n",
      "Epoch 31/100\n",
      "140/140 [==============================] - 5s 38ms/step - loss: 0.0187 - accuracy: 1.0000 - val_loss: 0.0236 - val_accuracy: 0.9964 - lr: 2.5000e-04\n",
      "Epoch 32/100\n",
      "140/140 [==============================] - 5s 37ms/step - loss: 0.0179 - accuracy: 1.0000 - val_loss: 0.0190 - val_accuracy: 0.9982 - lr: 2.5000e-04\n",
      "Epoch 33/100\n",
      "140/140 [==============================] - 5s 38ms/step - loss: 0.0175 - accuracy: 1.0000 - val_loss: 0.0203 - val_accuracy: 0.9982 - lr: 2.5000e-04\n",
      "Epoch 34/100\n",
      "140/140 [==============================] - 5s 37ms/step - loss: 0.0174 - accuracy: 0.9998 - val_loss: 0.0188 - val_accuracy: 0.9982 - lr: 2.5000e-04\n",
      "Epoch 35/100\n",
      "140/140 [==============================] - 5s 37ms/step - loss: 0.0169 - accuracy: 1.0000 - val_loss: 0.0190 - val_accuracy: 0.9982 - lr: 2.5000e-04\n",
      "Epoch 36/100\n",
      "140/140 [==============================] - 5s 38ms/step - loss: 0.0173 - accuracy: 0.9993 - val_loss: 0.0244 - val_accuracy: 0.9937 - lr: 2.5000e-04\n",
      "Epoch 37/100\n",
      "139/140 [============================>.] - ETA: 0s - loss: 0.0266 - accuracy: 0.9964\n",
      "Epoch 37: ReduceLROnPlateau reducing learning rate to 0.0001250000059371814.\n",
      "140/140 [==============================] - 5s 36ms/step - loss: 0.0265 - accuracy: 0.9964 - val_loss: 0.0258 - val_accuracy: 0.9955 - lr: 2.5000e-04\n",
      "Epoch 38/100\n",
      "140/140 [==============================] - 5s 38ms/step - loss: 0.0202 - accuracy: 0.9987 - val_loss: 0.0255 - val_accuracy: 0.9964 - lr: 1.2500e-04\n",
      "Epoch 39/100\n",
      "140/140 [==============================] - 5s 37ms/step - loss: 0.0185 - accuracy: 0.9991 - val_loss: 0.0211 - val_accuracy: 0.9982 - lr: 1.2500e-04\n"
     ]
    }
   ],
   "source": [
    "history = model.fit(X, y, epochs=100, batch_size=32, validation_split=0.2, callbacks=[early_stop, lr_reduce])"
   ]
  },
  {
   "cell_type": "code",
   "execution_count": 25,
   "id": "e2780b55",
   "metadata": {},
   "outputs": [
    {
     "data": {
      "image/png": "[encoded data removed]",
      "text/plain": [
       "<Figure size 1500x400 with 2 Axes>"
      ]
     },
     "metadata": {},
     "output_type": "display_data"
    }
   ],
   "source": [
    "plt.figure(figsize=(15,4))\n",
    "plt.subplot(1,2,1)\n",
    "plt.plot(history.history['accuracy'])\n",
    "plt.plot(history.history['val_accuracy'])\n",
    "plt.title('Model Accuracy')\n",
    "plt.ylabel('Accuracy')\n",
    "plt.xlabel('Epoch')\n",
    "plt.legend(['Train', 'Validation'], loc='upper left')\n",
    "\n",
    "plt.subplot(1,2,2)\n",
    "plt.plot(history.history['loss'])\n",
    "plt.plot(history.history['val_loss'])\n",
    "plt.title('Model Loss')\n",
    "plt.ylabel('Loss')\n",
    "plt.xlabel('Epoch')\n",
    "plt.legend(['Train', 'Validation'], loc='upper left')\n",
    "plt.show()"
   ]
  },
  {
   "cell_type": "code",
   "execution_count": 26,
   "id": "7c535d21",
   "metadata": {},
   "outputs": [],
   "source": [
    "def predict_emotion(audio_path, model, label_encoder, sr=16000, max_len=16000, max_frames=160):\n",
    "    samples, _ = librosa.load(audio_path, sr=sr)\n",
    "    samples = augmentations(samples=samples, sample_rate=sr)\n",
    "    samples = pad_or_truncate(samples, max_len)\n",
    "    \n",
    "    mfcc = extract_feature(samples, sr=sr, max_frames=max_frames)\n",
    "\n",
    "    # Ensure shape is (1, 40, 160)\n",
    "    mfcc = mfcc[np.newaxis, :, :]  # Remove transpose!\n",
    "\n",
    "    # Predict\n",
    "    prediction = model.predict(mfcc)\n",
    "    predicted_index = np.argmax(prediction)\n",
    "    predicted_label = label_encoder.inverse_transform([predicted_index])[0]\n",
    "\n",
    "    return predicted_label\n"
   ]
  },
  {
   "cell_type": "code",
   "execution_count": 27,
   "id": "d802564c",
   "metadata": {},
   "outputs": [
    {
     "name": "stdout",
     "output_type": "stream",
     "text": [
      "1/1 [==============================] - 1s 529ms/step\n"
     ]
    },
    {
     "data": {
      "text/plain": [
       "'happy'"
      ]
     },
     "execution_count": 27,
     "metadata": {},
     "output_type": "execute_result"
    }
   ],
   "source": [
    "predict_emotion(\"TESS Toronto emotional speech set data/YAF_happy/YAF_base_happy.wav\",model=model, label_encoder=le)"
   ]
  },
  {
   "cell_type": "code",
   "execution_count": 28,
   "id": "9029f037",
   "metadata": {},
   "outputs": [],
   "source": [
    "model.save('model_3.h5')"
   ]
  },
  {
   "cell_type": "code",
   "execution_count": null,
   "id": "f3bf1b0e",
   "metadata": {},
   "outputs": [],
   "source": [
    "df"
   ]
  }
 ],
 "metadata": {
  "kernelspec": {
   "display_name": "env",
   "language": "python",
   "name": "python3"
  },
  "language_info": {
   "codemirror_mode": {
    "name": "ipython",
    "version": 3
   },
   "file_extension": ".py",
   "mimetype": "text/x-python",
   "name": "python",
   "nbconvert_exporter": "python",
   "pygments_lexer": "ipython3",
   "version": "3.9.0"
  }
 },
 "nbformat": 4,
 "nbformat_minor": 5
}
